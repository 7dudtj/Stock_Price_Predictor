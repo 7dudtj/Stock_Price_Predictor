{
 "cells": [
  {
   "cell_type": "code",
   "execution_count": 133,
   "metadata": {},
   "outputs": [],
   "source": [
    "# import libraries\n",
    "import FinanceDataReader as fdr\n",
    "import numpy as np\n",
    "from datetime import datetime, timedelta"
   ]
  },
  {
   "cell_type": "code",
   "execution_count": 134,
   "metadata": {},
   "outputs": [],
   "source": [
    "# 데이터 수집 기간 및 종목코드 설정\n",
    "start_date = '20140106'\n",
    "end_date = '20220527'\n",
    "code = '000060' # test code"
   ]
  },
  {
   "cell_type": "code",
   "execution_count": 135,
   "metadata": {},
   "outputs": [],
   "source": [
    "# 시작일이 주말인 경우: 예외처리\n",
    "start_datetime = datetime.strptime(start_date, '%Y%m%d')\n",
    "if (start_datetime.weekday() == 5): # 시작: 토요일\n",
    "    start_datetime += timedelta(days=2)\n",
    "    start_date = start_datetime.strftime('%Y%m%d')\n",
    "elif (start_datetime.weekday() == 6): # 시작: 일요일\n",
    "    start_datetime += timedelta(days=1)\n",
    "    start_date = start_datetime.strftime('%Y%m%d')"
   ]
  },
  {
   "cell_type": "code",
   "execution_count": 136,
   "metadata": {},
   "outputs": [],
   "source": [
    "# start_data를 조정하여 ma 계산에 필요한 여분 데이터 확보\n",
    "new_start_datetime = start_datetime - timedelta(weeks=14)\n",
    "new_start_date = new_start_datetime.strftime('%Y%m%d')"
   ]
  },
  {
   "cell_type": "code",
   "execution_count": 137,
   "metadata": {},
   "outputs": [
    {
     "name": "stdout",
     "output_type": "stream",
     "text": [
      "           Date  Close    ma5   ma20   ma60  ma5_Change  ma20_Change  \\\n",
      "0    2014-01-06  15350  15340  15067  14720     -0.5188      -0.0165   \n",
      "1    2014-01-07  15400  15360  15070  14750      0.1304       0.0166   \n",
      "2    2014-01-08  15400  15410  15090  14780      0.3256       0.1328   \n",
      "3    2014-01-09  15600  15430  15130  14815      0.1298       0.2651   \n",
      "4    2014-01-10  15500  15450  15160  14842      0.1297       0.1983   \n",
      "...         ...    ...    ...    ...    ...         ...          ...   \n",
      "2060 2022-05-23  39750  39170  41387  42754      1.2407      -0.6541   \n",
      "2061 2022-05-24  39700  39460  41150  42719      0.7404      -0.5738   \n",
      "2062 2022-05-25  40800  39670  40945  42682      0.5322      -0.4981   \n",
      "2063 2022-05-26  39800  39830  40700  42660      0.4034      -0.5983   \n",
      "2064 2022-05-27  39800  39970  40442  42679      0.3515      -0.6326   \n",
      "\n",
      "      ma60_Change  \n",
      "0          0.1361  \n",
      "1          0.1982  \n",
      "2          0.2034  \n",
      "3          0.2369  \n",
      "4          0.1857  \n",
      "...           ...  \n",
      "2060      -0.1245  \n",
      "2061      -0.0818  \n",
      "2062      -0.0858  \n",
      "2063      -0.0507  \n",
      "2064       0.0430  \n",
      "\n",
      "[2065 rows x 8 columns]\n"
     ]
    }
   ],
   "source": [
    "# 종목코드에 대한 종가 데이터 수집\n",
    "data = fdr.DataReader(code, new_start_date, end_date).reset_index()\n",
    "data.drop(['Open', 'High', 'Low', 'Change', 'Volume'], axis=1, inplace=True)\n",
    "\n",
    "# 5/20/60일 이동평균 계산\n",
    "ma5 = data['Close'].rolling(window=5).mean()\n",
    "data['ma5'] = ma5\n",
    "ma20 = data['Close'].rolling(window=20).mean()\n",
    "data['ma20'] = ma20\n",
    "ma60 = data['Close'].rolling(window=60).mean()\n",
    "data['ma60'] = ma60\n",
    "\n",
    "# 이동평균 변화율(Change) 계산\n",
    "data['ma5_Change'] = np.ceil((data['ma5']/data['ma5'].shift(1) - 1) * 100 * 10000)/10000\n",
    "data['ma20_Change'] = np.ceil((data['ma20']/data['ma20'].shift(1) - 1) * 100 * 10000)/10000\n",
    "data['ma60_Change'] = np.ceil((data['ma60']/data['ma60'].shift(1) - 1) * 100 * 10000)/10000\n",
    "\n",
    "# Nan 데이터 제거\n",
    "for idx in data.index:\n",
    "    if (data.loc[idx, 'Date'].to_pydatetime().strftime('%Y%m%d') != start_date):\n",
    "        data.drop(idx, inplace=True)\n",
    "    else:\n",
    "        break\n",
    "data.reset_index(inplace=True)\n",
    "data.drop(['index'], axis=1, inplace=True)\n",
    "\n",
    "# 이동평균 데이터타입 변환 (float to int)\n",
    "data['ma5'] = data['ma5'].astype(int)\n",
    "data['ma20'] = data['ma20'].astype(int)\n",
    "data['ma60'] = data['ma60'].astype(int)\n",
    "\n",
    "print(data)"
   ]
  }
 ],
 "metadata": {
  "interpreter": {
   "hash": "e4cce46d6be9934fbd27f9ca0432556941ea5bdf741d4f4d64c6cd7f8dfa8fba"
  },
  "kernelspec": {
   "display_name": "Python 3.8.8 ('base')",
   "language": "python",
   "name": "python3"
  },
  "language_info": {
   "codemirror_mode": {
    "name": "ipython",
    "version": 3
   },
   "file_extension": ".py",
   "mimetype": "text/x-python",
   "name": "python",
   "nbconvert_exporter": "python",
   "pygments_lexer": "ipython3",
   "version": "3.8.8"
  },
  "orig_nbformat": 4
 },
 "nbformat": 4,
 "nbformat_minor": 2
}
