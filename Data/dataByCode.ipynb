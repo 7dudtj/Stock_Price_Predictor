{
 "cells": [
  {
   "cell_type": "code",
   "execution_count": 1,
   "metadata": {},
   "outputs": [],
   "source": [
    "# import libraries\n",
    "import FinanceDataReader as fdr\n",
    "import numpy as np\n",
    "from datetime import datetime, timedelta\n",
    "import math"
   ]
  },
  {
   "cell_type": "code",
   "execution_count": 2,
   "metadata": {},
   "outputs": [],
   "source": [
    "# 데이터 수집 기간 및 종목코드 설정\n",
    "start_date = '20140106'\n",
    "end_date = '20220527'\n",
    "code = '326030' # 20년 7월 2일 상장 종목으로 테스트"
   ]
  },
  {
   "cell_type": "code",
   "execution_count": 3,
   "metadata": {},
   "outputs": [],
   "source": [
    "# 시작일이 주말인 경우: 예외처리\n",
    "start_datetime = datetime.strptime(start_date, '%Y%m%d')\n",
    "if (start_datetime.weekday() == 5): # 시작: 토요일\n",
    "    start_datetime += timedelta(days=2)\n",
    "    start_date = start_datetime.strftime('%Y%m%d')\n",
    "elif (start_datetime.weekday() == 6): # 시작: 일요일\n",
    "    start_datetime += timedelta(days=1)\n",
    "    start_date = start_datetime.strftime('%Y%m%d')"
   ]
  },
  {
   "cell_type": "code",
   "execution_count": 4,
   "metadata": {},
   "outputs": [
    {
     "name": "stdout",
     "output_type": "stream",
     "text": [
      "             Close     ma5    ma20    ma60  ma5_Change  ma20_Change  \\\n",
      "Date                                                                  \n",
      "2020-07-02  127000  127000  127000  127000     29.9213      29.9213   \n",
      "2020-07-03  165000  165000  165000  165000     29.9213      29.9213   \n",
      "2020-07-06  214500  214500  214500  214500     30.0001      30.0001   \n",
      "2020-07-07  216500  216500  216500  216500      0.9325       0.9325   \n",
      "2020-07-08  217000  188000  188000  188000    -13.1639     -13.1639   \n",
      "...            ...     ...     ...     ...         ...          ...   \n",
      "2022-05-23   86600   87100   88195   88066     -0.4798      -0.0113   \n",
      "2022-05-24   85500   86500   88135   88193     -0.6888      -0.0680   \n",
      "2022-05-25   87400   86360   88065   88285     -0.1618      -0.0794   \n",
      "2022-05-26   87700   86700   87970   88336      0.3938      -0.1078   \n",
      "2022-05-27   87700   86980   87845   88375      0.3230      -0.1420   \n",
      "\n",
      "            ma60_Change  \n",
      "Date                     \n",
      "2020-07-02      29.9213  \n",
      "2020-07-03      29.9213  \n",
      "2020-07-06      30.0001  \n",
      "2020-07-07       0.9325  \n",
      "2020-07-08     -13.1639  \n",
      "...                 ...  \n",
      "2022-05-23       0.1365  \n",
      "2022-05-24       0.1439  \n",
      "2022-05-25       0.1040  \n",
      "2022-05-26       0.0586  \n",
      "2022-05-27       0.0434  \n",
      "\n",
      "[471 rows x 7 columns]\n"
     ]
    }
   ],
   "source": [
    "# 종목코드에 대한 종가 데이터 수집\n",
    "data = fdr.DataReader(code, start_date, end_date)\n",
    "data.drop(['Open', 'High', 'Low', 'Change', 'Volume'], axis=1, inplace=True)\n",
    "\n",
    "# 5/20/60일 이동평균 계산\n",
    "ma5 = data['Close'].rolling(window=5).mean()\n",
    "data['ma5'] = ma5\n",
    "ma20 = data['Close'].rolling(window=20).mean()\n",
    "data['ma20'] = ma20\n",
    "ma60 = data['Close'].rolling(window=60).mean()\n",
    "data['ma60'] = ma60\n",
    "\n",
    "# NaN 데이터 제거: ma5는 Close로, ma20은 ma5로, ma60은 ma20으로 대체\n",
    "for idx in data.index:\n",
    "    if (math.isnan(data.loc[idx, 'ma5'])):\n",
    "        data.loc[idx, 'ma5'] = data.loc[idx, 'ma20'] = data.loc[idx, 'ma60'] = data.loc[idx, 'Close']\n",
    "    if (math.isnan(data.loc[idx, 'ma20'])):\n",
    "        data.loc[idx, 'ma20'] = data.loc[idx, 'ma60'] = data.loc[idx, 'ma5']\n",
    "    if (math.isnan(data.loc[idx, 'ma60'])):\n",
    "        data.loc[idx, 'ma60'] = data.loc[idx, 'ma20']\n",
    "\n",
    "# 이동평균 변화율(Change) 계산\n",
    "data['ma5_Change'] = np.ceil((data['ma5']/data['ma5'].shift(1) - 1) * 100 * 10000)/10000\n",
    "data['ma20_Change'] = np.ceil((data['ma20']/data['ma20'].shift(1) - 1) * 100 * 10000)/10000\n",
    "data['ma60_Change'] = np.ceil((data['ma60']/data['ma60'].shift(1) - 1) * 100 * 10000)/10000\n",
    "data.fillna(method='bfill', inplace=True)\n",
    "        \n",
    "# 이동평균 데이터타입 변환 (float to int)\n",
    "data['ma5'] = data['ma5'].astype(int)\n",
    "data['ma20'] = data['ma20'].astype(int)\n",
    "data['ma60'] = data['ma60'].astype(int)\n",
    "\n",
    "print(data)"
   ]
  }
 ],
 "metadata": {
  "interpreter": {
   "hash": "e4cce46d6be9934fbd27f9ca0432556941ea5bdf741d4f4d64c6cd7f8dfa8fba"
  },
  "kernelspec": {
   "display_name": "Python 3.8.8 ('base')",
   "language": "python",
   "name": "python3"
  },
  "language_info": {
   "codemirror_mode": {
    "name": "ipython",
    "version": 3
   },
   "file_extension": ".py",
   "mimetype": "text/x-python",
   "name": "python",
   "nbconvert_exporter": "python",
   "pygments_lexer": "ipython3",
   "version": "3.8.8"
  },
  "orig_nbformat": 4
 },
 "nbformat": 4,
 "nbformat_minor": 2
}
