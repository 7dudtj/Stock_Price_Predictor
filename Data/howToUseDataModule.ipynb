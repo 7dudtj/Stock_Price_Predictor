{
 "cells": [
  {
   "cell_type": "markdown",
   "metadata": {},
   "source": [
    "# data.py 모듈 사용법"
   ]
  },
  {
   "cell_type": "markdown",
   "metadata": {},
   "source": [
    "### 코드와 data.py가 같은 경로에 있을 경우"
   ]
  },
  {
   "cell_type": "code",
   "execution_count": 3,
   "metadata": {},
   "outputs": [
    {
     "name": "stdout",
     "output_type": "stream",
     "text": [
      "           Date  weekday weeknum  kospi_Close  kospi_Volume  kospi_Change  \\\n",
      "0    2018-01-01        0      01      2479.65   262200000.0        0.0049   \n",
      "1    2018-01-02        1      01      2479.65   262200000.0        0.0049   \n",
      "2    2018-01-03        2      01      2486.35   331100000.0        0.0027   \n",
      "3    2018-01-04        3      01      2466.46   333840000.0       -0.0080   \n",
      "4    2018-01-05        4      01      2497.52   308770000.0        0.0126   \n",
      "...         ...      ...     ...          ...           ...           ...   \n",
      "1132 2022-05-04        2      18      2677.57     1160000.0       -0.0011   \n",
      "1133 2022-05-05        3      18      2677.57     1160000.0       -0.0011   \n",
      "1134 2022-05-06        4      18      2644.51     1310000.0       -0.0123   \n",
      "1135 2022-05-09        0      19      2610.81      870640.0       -0.0127   \n",
      "1136 2022-05-10        1      19      2596.56      826800.0       -0.0055   \n",
      "\n",
      "      kosdaq_Close  kosdaq_Volume  kosdaq_Change  nasdaq_Close  usd_Close  \\\n",
      "0           812.45   9.892000e+08         0.0176       7006.90    1066.60   \n",
      "1           812.45   9.892000e+08         0.0176       7006.90    1063.21   \n",
      "2           822.31   1.200000e+09         0.0121       7065.53    1064.80   \n",
      "3           808.01   1.350000e+09        -0.0174       7077.91    1062.28   \n",
      "4           828.03   1.230000e+09         0.0248       7136.56    1062.09   \n",
      "...            ...            ...            ...           ...        ...   \n",
      "1132        900.06   1.360000e+09        -0.0083      12964.86    1251.51   \n",
      "1133        900.06   1.360000e+09        -0.0083      12317.69    1269.20   \n",
      "1134        884.22   1.120000e+06        -0.0176      12144.66    1269.99   \n",
      "1135        860.84   1.090000e+06        -0.0264      11623.25    1274.28   \n",
      "1136        856.14   1.250000e+06        -0.0055      11623.25    1276.48   \n",
      "\n",
      "      usd_Change  jpy_Close  jpy_Change  acf_Close  acf_Change  ugb_Close  \\\n",
      "0        -0.0007     9.4678     -0.0005     0.7605      0.0004       2.46   \n",
      "1        -0.0032     9.4680      0.0000     0.7608      0.0004       2.46   \n",
      "2         0.0015     9.4644     -0.0004     0.7654      0.0060       2.44   \n",
      "3        -0.0024     9.4215     -0.0045     0.7664      0.0013       2.46   \n",
      "4        -0.0002     9.3924     -0.0031     0.7669      0.0007       2.47   \n",
      "...          ...        ...         ...        ...         ...        ...   \n",
      "1132     -0.0070     9.6941      0.0009     0.7059      0.0166       2.93   \n",
      "1133      0.0141     9.7511      0.0059     0.7003     -0.0079       3.05   \n",
      "1134      0.0006     9.7250     -0.0027     0.6997     -0.0009       3.12   \n",
      "1135      0.0034     9.7811      0.0058     0.6910     -0.0124       3.05   \n",
      "1136      0.0017     9.7845      0.0003     0.6907     -0.0004       3.05   \n",
      "\n",
      "      vix_Close  \n",
      "0          9.77  \n",
      "1          9.77  \n",
      "2          9.15  \n",
      "3          9.22  \n",
      "4          9.22  \n",
      "...         ...  \n",
      "1132      25.42  \n",
      "1133      31.20  \n",
      "1134      30.19  \n",
      "1135      34.75  \n",
      "1136      34.75  \n",
      "\n",
      "[1137 rows x 18 columns]\n"
     ]
    }
   ],
   "source": [
    "import data\n",
    "\n",
    "df = data.getData('20180101', '20220510') # 날짜는 예시\n",
    "print(df)"
   ]
  },
  {
   "cell_type": "markdown",
   "metadata": {},
   "source": [
    "### 코드가 'Stock_Price_Predictor/Code/폴더/파일명.ipynb'에 있을 경우"
   ]
  },
  {
   "cell_type": "code",
   "execution_count": null,
   "metadata": {},
   "outputs": [],
   "source": [
    "# 절대경로 설정\n",
    "import sys, os\n",
    "sys.path.append(os.path.dirname(os.path.abspath(os.path.dirname(os.path.abspath(os.path.dirname(\"파일명.ipynb\")))))) \n",
    "\n",
    "# 모듈 불러오기\n",
    "from Data import data\n",
    "df = data.getData('20200101', '20220101') # 날짜는 예시"
   ]
  },
  {
   "cell_type": "markdown",
   "metadata": {},
   "source": [
    "### 에러가 날 경우\n",
    "\n",
    "파이썬이 상대경로에 있는 모듈 import가 생각보다 어려운 것 같습니다.  \n",
    "에러가 해결이 잘 안될 경우, 'data.py' 파일을 복사해서 실행하고자 하는 코드와 같은 경로에 새로 저장해주시면  \n",
    "어렵지 않게 진행할 수 있습니다.  "
   ]
  }
 ],
 "metadata": {
  "interpreter": {
   "hash": "e4cce46d6be9934fbd27f9ca0432556941ea5bdf741d4f4d64c6cd7f8dfa8fba"
  },
  "kernelspec": {
   "display_name": "Python 3.8.8 ('base')",
   "language": "python",
   "name": "python3"
  },
  "language_info": {
   "codemirror_mode": {
    "name": "ipython",
    "version": 3
   },
   "file_extension": ".py",
   "mimetype": "text/x-python",
   "name": "python",
   "nbconvert_exporter": "python",
   "pygments_lexer": "ipython3",
   "version": "3.8.8"
  },
  "orig_nbformat": 4
 },
 "nbformat": 4,
 "nbformat_minor": 2
}
