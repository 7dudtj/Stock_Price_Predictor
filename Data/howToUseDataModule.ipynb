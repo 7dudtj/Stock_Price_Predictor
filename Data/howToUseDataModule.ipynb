{
 "cells": [
  {
   "cell_type": "markdown",
   "metadata": {},
   "source": [
    "# 데이터 모듈 사용법\n",
    "사용 가능한 데이터 모듈 >> data.py, data75.py, dataByCode.py"
   ]
  },
  {
   "cell_type": "markdown",
   "metadata": {},
   "source": [
    "### 코드와 데이터 파일이 같은 경로에 있을 경우"
   ]
  },
  {
   "cell_type": "code",
   "execution_count": null,
   "metadata": {},
   "outputs": [],
   "source": [
    "import data\n",
    "\n",
    "df = data.getData('20200106', '20220429') # 날짜는 예시\n",
    "print(df)"
   ]
  },
  {
   "cell_type": "markdown",
   "metadata": {},
   "source": [
    "### 코드가 'Stock_Price_Predictor/Code/폴더/파일명.ipynb'에 있을 경우"
   ]
  },
  {
   "cell_type": "code",
   "execution_count": null,
   "metadata": {},
   "outputs": [],
   "source": [
    "# 절대경로 설정\n",
    "import sys, os\n",
    "sys.path.append(os.path.dirname(os.path.abspath(os.path.dirname(os.path.abspath(os.path.dirname(\"파일명.ipynb\")))))) \n",
    "\n",
    "# 모듈 불러오기\n",
    "from Data import data75\n",
    "df = data75.getData('20200101', '20220101') # 날짜는 예시\n",
    "print(df)"
   ]
  },
  {
   "cell_type": "markdown",
   "metadata": {},
   "source": [
    "### 일반적인 경우"
   ]
  },
  {
   "cell_type": "code",
   "execution_count": 3,
   "metadata": {},
   "outputs": [
    {
     "name": "stdout",
     "output_type": "stream",
     "text": [
      "           Date  Close    ma5   ma20   ma60  ma5_Change  ma20_Change  \\\n",
      "0    2014-01-06  15350  15350  15350  15350      0.3258       0.3258   \n",
      "1    2014-01-07  15400  15400  15400  15400      0.3258       0.3258   \n",
      "2    2014-01-08  15400  15400  15400  15400      0.0000       0.0000   \n",
      "3    2014-01-09  15600  15600  15600  15600      1.2988       1.2988   \n",
      "4    2014-01-10  15500  15450  15450  15450     -0.9615      -0.9615   \n",
      "...         ...    ...    ...    ...    ...         ...          ...   \n",
      "2060 2022-05-23  39750  39170  41387  42754      1.2407      -0.6541   \n",
      "2061 2022-05-24  39700  39460  41150  42719      0.7404      -0.5738   \n",
      "2062 2022-05-25  40800  39670  40945  42682      0.5322      -0.4981   \n",
      "2063 2022-05-26  39800  39830  40700  42660      0.4034      -0.5983   \n",
      "2064 2022-05-27  39800  39970  40442  42679      0.3515      -0.6326   \n",
      "\n",
      "      ma60_Change  \n",
      "0          0.3258  \n",
      "1          0.3258  \n",
      "2          0.0000  \n",
      "3          1.2988  \n",
      "4         -0.9615  \n",
      "...           ...  \n",
      "2060      -0.1245  \n",
      "2061      -0.0818  \n",
      "2062      -0.0858  \n",
      "2063      -0.0507  \n",
      "2064       0.0430  \n",
      "\n",
      "[2065 rows x 8 columns]\n"
     ]
    }
   ],
   "source": [
    "# 레포지토리의 root를 path에 추가\n",
    "import sys\n",
    "sys.path.append('..') # 모듈을 부르고자 하는 파일 위치에 맞게 설정\n",
    "\n",
    "# 모듈 불러오기\n",
    "from Data import dataByCode\n",
    "df = dataByCode.getData('20140106', '20220527', '000060') # 날짜와 종목코드는 예시\n",
    "print(df)"
   ]
  },
  {
   "cell_type": "markdown",
   "metadata": {},
   "source": [
    "### 에러가 날 경우\n",
    "\n",
    "파이썬이 상대경로에 있는 모듈 import가 생각보다 어려운 것 같습니다.  \n",
    "에러가 해결이 잘 안될 경우, 'data.py' 파일을 복사해서 실행하고자 하는 코드와 같은 경로에 새로 저장해주시면  \n",
    "어렵지 않게 진행할 수 있습니다.  "
   ]
  }
 ],
 "metadata": {
  "interpreter": {
   "hash": "e4cce46d6be9934fbd27f9ca0432556941ea5bdf741d4f4d64c6cd7f8dfa8fba"
  },
  "kernelspec": {
   "display_name": "Python 3.8.8 ('base')",
   "language": "python",
   "name": "python3"
  },
  "language_info": {
   "codemirror_mode": {
    "name": "ipython",
    "version": 3
   },
   "file_extension": ".py",
   "mimetype": "text/x-python",
   "name": "python",
   "nbconvert_exporter": "python",
   "pygments_lexer": "ipython3",
   "version": "3.8.8"
  },
  "orig_nbformat": 4
 },
 "nbformat": 4,
 "nbformat_minor": 2
}
