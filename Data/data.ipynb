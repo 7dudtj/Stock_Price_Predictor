{
 "cells": [
  {
   "cell_type": "markdown",
   "metadata": {},
   "source": [
    "## data.ipynb"
   ]
  },
  {
   "cell_type": "markdown",
   "metadata": {},
   "source": [
    "### data for training"
   ]
  },
  {
   "cell_type": "code",
   "execution_count": 123,
   "metadata": {},
   "outputs": [],
   "source": [
    "# import libraries\n",
    "import FinanceDataReader as fdr\n",
    "import pandas as pd\n",
    "import numpy as np"
   ]
  },
  {
   "cell_type": "code",
   "execution_count": 124,
   "metadata": {},
   "outputs": [],
   "source": [
    "# 데이터 수집 기간 설정\n",
    "start_date = '20200106'\n",
    "end_date = '20220429'"
   ]
  },
  {
   "cell_type": "code",
   "execution_count": 125,
   "metadata": {},
   "outputs": [],
   "source": [
    "# function for columns renaming\n",
    "def cols_rename(data_set, target_name):\n",
    "    for i in data_set.columns:\n",
    "        if i == 'Date':\n",
    "            pass\n",
    "        else:\n",
    "            data_set.rename(columns={i:target_name+'_'+i}, inplace=True)\n",
    "    return data_set"
   ]
  },
  {
   "cell_type": "code",
   "execution_count": 126,
   "metadata": {},
   "outputs": [],
   "source": [
    "# function for column renaming\n",
    "def col_rename(data_set, name_from, name_to):\n",
    "    for i in data_set.columns:\n",
    "        if i != name_from:\n",
    "            pass\n",
    "        else:\n",
    "            data_set.rename(columns={i:name_to}, inplace=True)\n",
    "    return data_set\n",
    "    "
   ]
  },
  {
   "cell_type": "code",
   "execution_count": 127,
   "metadata": {},
   "outputs": [],
   "source": [
    "# function for adjusting friday to sunday data as new friday data\n",
    "def weekendToFriday(target, idx, col, returnType): # idx: Friday\n",
    "    if (returnType == 'intType'):\n",
    "        target.loc[idx, col] = (target.loc[idx, col]//7)*1 + (target.loc[idx+1, col]//7)*2 + (target.loc[idx+2, col]//7)*4\n",
    "    elif (returnType == 'floatType'):\n",
    "        target.loc[idx, col] = (target.loc[idx, col]/7)*1 + (target.loc[idx+1, col]/7)*2 + (target.loc[idx+2, col]/7)*4\n",
    "    return target.loc[idx, col]"
   ]
  },
  {
   "cell_type": "code",
   "execution_count": 128,
   "metadata": {},
   "outputs": [],
   "source": [
    "# make business_days: 주말 미포함\n",
    "Business_days = pd.DataFrame(pd.date_range(start_date, end_date, freq='B'), columns = ['Date'])\n",
    "Business_days['weekday'] = Business_days.Date.apply(lambda x: x.weekday())\n",
    "Business_days['weeknum'] = Business_days.Date.apply(lambda x: x.strftime('%V'))"
   ]
  },
  {
   "cell_type": "markdown",
   "metadata": {},
   "source": [
    "### 주말 미포함 데이터"
   ]
  },
  {
   "cell_type": "code",
   "execution_count": 129,
   "metadata": {},
   "outputs": [],
   "source": [
    "# KOSPI 추가\n",
    "KOSPI = fdr.DataReader('KS11', start_date, end_date).reset_index()\n",
    "KOSPI.drop(['Open', 'High', 'Low'], axis=1, inplace=True)\n",
    "cols_rename(KOSPI, 'kospi')\n",
    "data = pd.merge(Business_days, KOSPI, how='outer')"
   ]
  },
  {
   "cell_type": "code",
   "execution_count": 130,
   "metadata": {},
   "outputs": [],
   "source": [
    "# KOSDAQ 추가\n",
    "KOSDAQ = fdr.DataReader('KQ11', start_date, end_date).reset_index()\n",
    "KOSDAQ.drop(['Open', 'High', 'Low'], axis=1, inplace=True)\n",
    "cols_rename(KOSDAQ, 'kosdaq')\n",
    "data = pd.merge(data, KOSDAQ, how='outer')"
   ]
  },
  {
   "cell_type": "code",
   "execution_count": 131,
   "metadata": {},
   "outputs": [],
   "source": [
    "# 미국증시: 나스닥(NASDAQ) 추가\n",
    "NAS = fdr.DataReader('NASDAQCOM', start_date, end_date, data_source='fred').reset_index()\n",
    "col_rename(NAS, 'DATE', 'Date')\n",
    "col_rename(NAS, 'NASDAQCOM', 'nasdaq_Close')\n",
    "data = pd.merge(data, NAS, how='outer')"
   ]
  },
  {
   "cell_type": "code",
   "execution_count": 132,
   "metadata": {},
   "outputs": [],
   "source": [
    "# 환율: 원달러(USD) 추가\n",
    "USD = fdr.DataReader('USD/KRW', start_date, end_date).reset_index()\n",
    "USD.drop(['Open', 'High', 'Low'], axis=1, inplace=True)\n",
    "cols_rename(USD, 'usd')\n",
    "data = pd.merge(data, USD, how='outer')"
   ]
  },
  {
   "cell_type": "code",
   "execution_count": 133,
   "metadata": {},
   "outputs": [],
   "source": [
    "# 환율: 원엔(JPY) 추가\n",
    "JPY = fdr.DataReader('JPY/KRW', start_date, end_date).reset_index()\n",
    "JPY.drop(['Open', 'High', 'Low'], axis=1, inplace=True)\n",
    "cols_rename(JPY, 'jpy')\n",
    "data = pd.merge(data, JPY, how='outer')"
   ]
  },
  {
   "cell_type": "code",
   "execution_count": 134,
   "metadata": {},
   "outputs": [],
   "source": [
    "# 환율: 호주달러/스위스프랑 추가\n",
    "ACF = fdr.DataReader('AUD/CHF', start_date, end_date).reset_index()\n",
    "ACF.drop(['Open', 'High', 'Low'], axis=1, inplace=True)\n",
    "cols_rename(ACF, 'acf')\n",
    "data = pd.merge(data, ACF, how='outer')"
   ]
  },
  {
   "cell_type": "code",
   "execution_count": 135,
   "metadata": {},
   "outputs": [],
   "source": [
    "# 국채: 미 국채 10년 추가\n",
    "UGB = fdr.DataReader('DGS10', start_date, end_date, data_source='fred').reset_index()\n",
    "col_rename(UGB, 'DATE', 'Date')\n",
    "col_rename(UGB, 'DGS10', 'ugb_Close')\n",
    "data = pd.merge(data, UGB, how='outer')"
   ]
  },
  {
   "cell_type": "code",
   "execution_count": 136,
   "metadata": {},
   "outputs": [],
   "source": [
    "# 변동성 지수 추가\n",
    "VIX = fdr.DataReader('VIXCLS', start_date, end_date, data_source='fred').reset_index()\n",
    "col_rename(VIX, 'DATE', 'Date')\n",
    "col_rename(VIX, 'VIXCLS', 'vix_Close')\n",
    "data = pd.merge(data, VIX, how='outer')"
   ]
  },
  {
   "cell_type": "markdown",
   "metadata": {},
   "source": [
    "### 주말 포함 데이터"
   ]
  },
  {
   "cell_type": "code",
   "execution_count": 137,
   "metadata": {},
   "outputs": [],
   "source": [
    "# 암호화폐: 비트코인(BitCoin) 추가\n",
    "BTC = fdr.DataReader('BTC/KRW',start_date,end_date).reset_index()\n",
    "BTC['dayofweek'] = BTC['Date'].dt.dayofweek # 요일 (월 = 0)\n",
    "BTC.drop(['Open', 'High', 'Low'], axis=1, inplace=True)\n",
    "cols_rename(BTC, 'btc')\n",
    "\n",
    "# 예외처리: 마지막 데이터가 토요일인 경우\n",
    "if (BTC.loc[len(BTC)-1, 'btc_dayofweek'] == 5):\n",
    "    BTC.drop(len(BTC)-1, inplace=True)\n",
    "\n",
    "# 예외처리: 첫 데이터가 주말인 경우\n",
    "if (BTC.loc[0, 'btc_dayofweek'] == 6):\n",
    "    BTC.drop(0, inplace=True)\n",
    "elif (BTC.loc[0, 'btc_dayofweek'] == 5):\n",
    "    BTC.drop(0, inplace=True)\n",
    "    BTC.drop(1, inplace=True)\n",
    "\n",
    "# 금토일 데이터를 금요일 데이터로 병합 후 주말 데이터 제거\n",
    "# 금토일 데이터 가중치 >> 1:2:4\n",
    "for idx in BTC.index:\n",
    "    if (BTC.loc[idx, 'btc_dayofweek'] == 6):\n",
    "        BTC.loc[idx-2, 'btc_Close'] = weekendToFriday(BTC, idx-2, 'btc_Close', 'intType')\n",
    "        BTC.loc[idx-2, 'btc_Volume'] = weekendToFriday(BTC, idx-2, 'btc_Volume', 'floatType')\n",
    "        BTC.loc[idx-2, 'btc_Change'] = np.ceil(weekendToFriday(BTC, idx-2, 'btc_Change', 'floatType')*1000)/1000\n",
    "for idx in BTC.index:\n",
    "    if (BTC.loc[idx, 'btc_dayofweek'] == 5 or BTC.loc[idx, 'btc_dayofweek'] == 6):\n",
    "        BTC.drop(idx, inplace=True)\n",
    "\n",
    "# 데이터 가공\n",
    "BTC.drop(['btc_dayofweek'], axis=1, inplace=True)\n",
    "BTC.reset_index(inplace=True)\n",
    "BTC.drop(['index'], axis=1, inplace=True)\n",
    "\n",
    "data = pd.merge(data, BTC, how='outer')"
   ]
  },
  {
   "cell_type": "code",
   "execution_count": 138,
   "metadata": {},
   "outputs": [],
   "source": [
    "# 국채: 한국 국채 추가\n",
    "KGB = fdr.DataReader('KR10YT=RR', start_date, end_date).reset_index()\n",
    "KGB['dayofweek'] = KGB['Date'].dt.dayofweek # 요일 (월 = 0)\n",
    "KGB.drop(['Open', 'High', 'Low'], axis=1, inplace=True)\n",
    "cols_rename(KGB, 'kgb')\n",
    "\n",
    "# 예외처리: 마지막 데이터가 토요일인 경우\n",
    "if (KGB.loc[len(KGB)-1, 'kgb_dayofweek'] == 5):\n",
    "    KGB.drop(len(KGB)-1, inplace=True)\n",
    "\n",
    "# 예외처리: 첫 데이터가 주말인 경우\n",
    "if (KGB.loc[0, 'kgb_dayofweek'] == 6):\n",
    "    KGB.drop(0, inplace=True)\n",
    "elif (KGB.loc[0, 'kgb_dayofweek'] == 5):\n",
    "    KGB.drop(0, inplace=True)\n",
    "    KGB.drop(1, inplace=True)\n",
    "\n",
    "# 금토일 데이터를 금요일 데이터로 병합 후 주말 데이터 제거\n",
    "# 금토일 데이터 가중치 >> 1:2:4\n",
    "for idx in KGB.index:\n",
    "    if (KGB.loc[idx, 'kgb_dayofweek'] == 6):\n",
    "        KGB.loc[idx-2, 'kgb_Close'] = weekendToFriday(KGB, idx-2, 'kgb_Close', 'floatType')\n",
    "        KGB.loc[idx-2, 'kgb_Change'] = weekendToFriday(KGB, idx-2, 'kgb_Change', 'floatType')\n",
    "        KGB.loc[idx-2, 'kgb_Change'] = np.ceil(weekendToFriday(KGB, idx-2, 'kgb_Change', 'floatType')*1000)/1000\n",
    "for idx in KGB.index:\n",
    "    if (KGB.loc[idx, 'kgb_dayofweek'] == 5 or KGB.loc[idx, 'kgb_dayofweek'] == 6):\n",
    "        KGB.drop(idx, inplace=True)\n",
    "\n",
    "# 데이터 가공\n",
    "KGB.drop(['kgb_dayofweek'], axis=1, inplace=True)\n",
    "KGB.reset_index(inplace=True)\n",
    "KGB.drop(['index'], axis=1, inplace=True)\n",
    "\n",
    "data = pd.merge(data, KGB, how='outer')"
   ]
  },
  {
   "cell_type": "code",
   "execution_count": 139,
   "metadata": {},
   "outputs": [
    {
     "name": "stdout",
     "output_type": "stream",
     "text": [
      "          Date  weekday weeknum  kospi_Close  kospi_Volume  kospi_Change  \\\n",
      "0   2020-01-06        0      02      2155.07  5.926700e+08       -0.0098   \n",
      "1   2020-01-07        1      02      2175.54  5.682400e+08        0.0095   \n",
      "2   2020-01-08        2      02      2151.31  9.138300e+08       -0.0111   \n",
      "3   2020-01-09        3      02      2186.45  5.926000e+08        0.0163   \n",
      "4   2020-01-10        4      02      2206.39  5.945400e+08        0.0091   \n",
      "..         ...      ...     ...          ...           ...           ...   \n",
      "600 2022-04-25        0      17      2657.13  9.883500e+05       -0.0176   \n",
      "601 2022-04-26        1      17      2668.31  8.899400e+08        0.0042   \n",
      "602 2022-04-27        2      17      2639.06  1.070000e+09       -0.0110   \n",
      "603 2022-04-28        3      17      2667.49  8.991700e+08        0.0108   \n",
      "604 2022-04-29        4      17      2695.05  9.624000e+05        0.0103   \n",
      "\n",
      "     kosdaq_Close  kosdaq_Volume  kosdaq_Change  nasdaq_Close  ...  \\\n",
      "0          655.31   8.842800e+08        -0.0218      9071.465  ...   \n",
      "1          663.44   9.703100e+08         0.0124      9068.582  ...   \n",
      "2          640.94   1.380000e+09        -0.0339      9129.242  ...   \n",
      "3          666.09   9.806200e+08         0.0392      9203.426  ...   \n",
      "4          673.03   8.373900e+08         0.0104      9178.859  ...   \n",
      "..            ...            ...            ...           ...  ...   \n",
      "600        899.84   1.430000e+09        -0.0249     13004.850  ...   \n",
      "601        911.16   1.630000e+09         0.0126     12490.740  ...   \n",
      "602        896.18   1.860000e+09        -0.0164     12488.930  ...   \n",
      "603        892.22   1.520000e+06        -0.0044     12871.530  ...   \n",
      "604        904.75   1.460000e+09         0.0140     12334.640  ...   \n",
      "\n",
      "     jpy_Change  acf_Close  acf_Change  ugb_Close  vix_Close  btc_Close  \\\n",
      "0       -0.0009     0.6716     -0.0055       1.81      13.85    8855000   \n",
      "1       -0.0001     0.6663     -0.0079       1.83      13.79    9391000   \n",
      "2       -0.0109     0.6683      0.0030       1.87      13.45    9096000   \n",
      "3       -0.0065     0.6674     -0.0013       1.85      12.54    8946000   \n",
      "4       -0.0003     0.6710      0.0054       1.83      12.56    9175427   \n",
      "..          ...        ...         ...        ...        ...        ...   \n",
      "600      0.0113     0.6886     -0.0059       2.81      27.02   50633000   \n",
      "601      0.0127     0.6853     -0.0048       2.77      33.52   48710000   \n",
      "602     -0.0051     0.6904      0.0074       2.82      31.60   49918000   \n",
      "603     -0.0140     0.6896     -0.0012       2.85      29.99   50549000   \n",
      "604      0.0007     0.6875     -0.0030       2.89      33.40   49715000   \n",
      "\n",
      "      btc_Volume  btc_Change  kgb_Close  kgb_Change  \n",
      "0    1260.000000      0.0467   1.537000     -0.0147  \n",
      "1    2850.000000      0.0605   1.616000      0.0514  \n",
      "2    4040.000000     -0.0314   1.628000      0.0074  \n",
      "3    1180.000000     -0.0165   1.688000      0.0369  \n",
      "4    1027.142857      0.0100   1.708571      0.0010  \n",
      "..           ...         ...        ...         ...  \n",
      "600  1440.000000      0.0202   3.210000     -0.0287  \n",
      "601  1290.000000     -0.0380   3.195000     -0.0047  \n",
      "602  1160.000000      0.0248   3.163000     -0.0100  \n",
      "603  1530.000000      0.0126   3.168000      0.0016  \n",
      "604  1510.000000     -0.0165   3.245000      0.0243  \n",
      "\n",
      "[605 rows x 23 columns]\n"
     ]
    }
   ],
   "source": [
    "# NaN 값은 전일 값으로 대체. \n",
    "data = data.fillna(method='ffill')\n",
    "data = data.fillna(method='bfill') # 예외처리\n",
    "print(data)"
   ]
  },
  {
   "cell_type": "markdown",
   "metadata": {},
   "source": [
    "### 매주 금요일 데이터"
   ]
  },
  {
   "cell_type": "code",
   "execution_count": 140,
   "metadata": {},
   "outputs": [],
   "source": [
    "# 금융스트레스 지수 추가\n",
    "#FSI = fdr.DataReader('STLFSI2', start_date, end_date, data_source='fred').reset_index()\n",
    "#col_rename(FSI, 'DATE', 'Date')\n",
    "#col_rename(FSI, 'STLFSI2', 'fsi_Close')\n",
    "#data = pd.merge(data, FSI, how='outer')\n",
    "\n",
    "# 사용하지 않기로 결정"
   ]
  },
  {
   "cell_type": "markdown",
   "metadata": {},
   "source": [
    "### 데이터가 더이상 제공되지 않음 (~22/1/21)"
   ]
  },
  {
   "cell_type": "code",
   "execution_count": 141,
   "metadata": {},
   "outputs": [],
   "source": [
    "# 신용경색 지수 추가\n",
    "#TED = fdr.DataReader('TEDRATE', start_date, end_date, data_source='fred').reset_index()\n",
    "#col_rename(TED, 'DATE', 'Date')\n",
    "#col_rename(TED, 'TEDRATE', 'ted_Close')\n",
    "#data = pd.merge(data, TED, how='outer')\n",
    "\n",
    "# 사용하지 않기로 결정"
   ]
  }
 ],
 "metadata": {
  "interpreter": {
   "hash": "e4cce46d6be9934fbd27f9ca0432556941ea5bdf741d4f4d64c6cd7f8dfa8fba"
  },
  "kernelspec": {
   "display_name": "Python 3.8.8 ('base')",
   "language": "python",
   "name": "python3"
  },
  "language_info": {
   "codemirror_mode": {
    "name": "ipython",
    "version": 3
   },
   "file_extension": ".py",
   "mimetype": "text/x-python",
   "name": "python",
   "nbconvert_exporter": "python",
   "pygments_lexer": "ipython3",
   "version": "3.8.8"
  },
  "orig_nbformat": 4
 },
 "nbformat": 4,
 "nbformat_minor": 2
}
