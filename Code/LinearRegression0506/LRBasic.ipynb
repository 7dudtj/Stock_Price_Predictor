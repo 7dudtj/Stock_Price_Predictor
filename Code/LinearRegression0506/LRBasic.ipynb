{
 "cells": [
  {
   "cell_type": "code",
   "execution_count": 135,
   "metadata": {},
   "outputs": [],
   "source": [
    "import pandas as pd\n",
    "import numpy as np\n",
    "import os\n",
    "import FinanceDataReader as fdr\n",
    "\n",
    "from sklearn.linear_model import LinearRegression\n",
    "from tqdm import tqdm"
   ]
  },
  {
   "cell_type": "code",
   "execution_count": 136,
   "metadata": {},
   "outputs": [
    {
     "data": {
      "text/html": [
       "<div>\n",
       "<style scoped>\n",
       "    .dataframe tbody tr th:only-of-type {\n",
       "        vertical-align: middle;\n",
       "    }\n",
       "\n",
       "    .dataframe tbody tr th {\n",
       "        vertical-align: top;\n",
       "    }\n",
       "\n",
       "    .dataframe thead th {\n",
       "        text-align: right;\n",
       "    }\n",
       "</style>\n",
       "<table border=\"1\" class=\"dataframe\">\n",
       "  <thead>\n",
       "    <tr style=\"text-align: right;\">\n",
       "      <th></th>\n",
       "      <th>종목명</th>\n",
       "      <th>종목코드</th>\n",
       "      <th>상장시장</th>\n",
       "    </tr>\n",
       "  </thead>\n",
       "  <tbody>\n",
       "    <tr>\n",
       "      <th>109</th>\n",
       "      <td>메리츠화재</td>\n",
       "      <td>000060</td>\n",
       "      <td>KOSPI</td>\n",
       "    </tr>\n",
       "    <tr>\n",
       "      <th>126</th>\n",
       "      <td>하이트진로</td>\n",
       "      <td>000080</td>\n",
       "      <td>KOSPI</td>\n",
       "    </tr>\n",
       "    <tr>\n",
       "      <th>67</th>\n",
       "      <td>유한양행</td>\n",
       "      <td>000100</td>\n",
       "      <td>KOSPI</td>\n",
       "    </tr>\n",
       "    <tr>\n",
       "      <th>69</th>\n",
       "      <td>CJ대한통운</td>\n",
       "      <td>000120</td>\n",
       "      <td>KOSPI</td>\n",
       "    </tr>\n",
       "    <tr>\n",
       "      <th>156</th>\n",
       "      <td>두산</td>\n",
       "      <td>000150</td>\n",
       "      <td>KOSPI</td>\n",
       "    </tr>\n",
       "    <tr>\n",
       "      <th>...</th>\n",
       "      <td>...</td>\n",
       "      <td>...</td>\n",
       "      <td>...</td>\n",
       "    </tr>\n",
       "    <tr>\n",
       "      <th>328</th>\n",
       "      <td>넥스틴</td>\n",
       "      <td>348210</td>\n",
       "      <td>KOSDAQ</td>\n",
       "    </tr>\n",
       "    <tr>\n",
       "      <th>31</th>\n",
       "      <td>하이브</td>\n",
       "      <td>352820</td>\n",
       "      <td>KOSPI</td>\n",
       "    </tr>\n",
       "    <tr>\n",
       "      <th>199</th>\n",
       "      <td>솔브레인</td>\n",
       "      <td>357780</td>\n",
       "      <td>KOSDAQ</td>\n",
       "    </tr>\n",
       "    <tr>\n",
       "      <th>176</th>\n",
       "      <td>티와이홀딩스</td>\n",
       "      <td>363280</td>\n",
       "      <td>KOSPI</td>\n",
       "    </tr>\n",
       "    <tr>\n",
       "      <th>241</th>\n",
       "      <td>엑세스바이오</td>\n",
       "      <td>950130</td>\n",
       "      <td>KOSDAQ</td>\n",
       "    </tr>\n",
       "  </tbody>\n",
       "</table>\n",
       "<p>370 rows × 3 columns</p>\n",
       "</div>"
      ],
      "text/plain": [
       "        종목명    종목코드    상장시장\n",
       "109   메리츠화재  000060   KOSPI\n",
       "126   하이트진로  000080   KOSPI\n",
       "67     유한양행  000100   KOSPI\n",
       "69   CJ대한통운  000120   KOSPI\n",
       "156      두산  000150   KOSPI\n",
       "..      ...     ...     ...\n",
       "328     넥스틴  348210  KOSDAQ\n",
       "31      하이브  352820   KOSPI\n",
       "199    솔브레인  357780  KOSDAQ\n",
       "176  티와이홀딩스  363280   KOSPI\n",
       "241  엑세스바이오  950130  KOSDAQ\n",
       "\n",
       "[370 rows x 3 columns]"
      ]
     },
     "execution_count": 136,
     "metadata": {},
     "output_type": "execute_result"
    }
   ],
   "source": [
    "path = '../../Data'\n",
    "list_name = 'stock_list.csv'\n",
    "\n",
    "stock_list = pd.read_csv(os.path.join(path,list_name))\n",
    "stock_list['종목코드'] = stock_list['종목코드'].apply(lambda x : str(x).zfill(6))\n",
    "stock_list = stock_list.sort_values(by=['종목코드'])\n",
    "stock_list"
   ]
  },
  {
   "cell_type": "code",
   "execution_count": 137,
   "metadata": {},
   "outputs": [
    {
     "name": "stdout",
     "output_type": "stream",
     "text": [
      "HOW MANY \"Business_days\" : (255, 1)\n",
      "        Date\n",
      "0 2020-01-06\n",
      "1 2020-01-07\n",
      "2 2020-01-08\n",
      "3 2020-01-09\n",
      "4 2020-01-10\n"
     ]
    }
   ],
   "source": [
    "start_date = '20200106'\n",
    "end_date = '20201225'\n",
    "# start_date = '20210104'\n",
    "# end_date = '20211231'\n",
    "\n",
    "business_days = pd.DataFrame(pd.date_range(start_date,end_date,freq='B'), columns = ['Date'])\n",
    "\n",
    "print(f'HOW MANY \"Business_days\" : {business_days.shape}', )\n",
    "print(business_days.head())"
   ]
  },
  {
   "cell_type": "code",
   "execution_count": 138,
   "metadata": {},
   "outputs": [
    {
     "name": "stdout",
     "output_type": "stream",
     "text": [
      "[Timestamp('2020-01-27 00:00:00'), Timestamp('2020-01-28 00:00:00'), Timestamp('2020-01-29 00:00:00'), Timestamp('2020-01-30 00:00:00'), Timestamp('2020-01-31 00:00:00'), Timestamp('2020-02-24 00:00:00'), Timestamp('2020-02-25 00:00:00'), Timestamp('2020-02-26 00:00:00'), Timestamp('2020-02-27 00:00:00'), Timestamp('2020-02-28 00:00:00'), Timestamp('2020-03-23 00:00:00'), Timestamp('2020-03-24 00:00:00'), Timestamp('2020-03-25 00:00:00'), Timestamp('2020-03-26 00:00:00'), Timestamp('2020-03-27 00:00:00'), Timestamp('2020-04-20 00:00:00'), Timestamp('2020-04-21 00:00:00'), Timestamp('2020-04-22 00:00:00'), Timestamp('2020-04-23 00:00:00'), Timestamp('2020-04-24 00:00:00'), Timestamp('2020-05-18 00:00:00'), Timestamp('2020-05-19 00:00:00'), Timestamp('2020-05-20 00:00:00'), Timestamp('2020-05-21 00:00:00'), Timestamp('2020-05-22 00:00:00'), Timestamp('2020-06-15 00:00:00'), Timestamp('2020-06-16 00:00:00'), Timestamp('2020-06-17 00:00:00'), Timestamp('2020-06-18 00:00:00'), Timestamp('2020-06-19 00:00:00'), Timestamp('2020-07-13 00:00:00'), Timestamp('2020-07-14 00:00:00'), Timestamp('2020-07-15 00:00:00'), Timestamp('2020-07-16 00:00:00'), Timestamp('2020-07-17 00:00:00'), Timestamp('2020-08-10 00:00:00'), Timestamp('2020-08-11 00:00:00'), Timestamp('2020-08-12 00:00:00'), Timestamp('2020-08-13 00:00:00'), Timestamp('2020-08-14 00:00:00'), Timestamp('2020-09-07 00:00:00'), Timestamp('2020-09-08 00:00:00'), Timestamp('2020-09-09 00:00:00'), Timestamp('2020-09-10 00:00:00'), Timestamp('2020-09-11 00:00:00'), Timestamp('2020-10-05 00:00:00'), Timestamp('2020-10-06 00:00:00'), Timestamp('2020-10-07 00:00:00'), Timestamp('2020-10-08 00:00:00'), Timestamp('2020-10-09 00:00:00'), Timestamp('2020-11-02 00:00:00'), Timestamp('2020-11-03 00:00:00'), Timestamp('2020-11-04 00:00:00'), Timestamp('2020-11-05 00:00:00'), Timestamp('2020-11-06 00:00:00'), Timestamp('2020-11-30 00:00:00'), Timestamp('2020-12-01 00:00:00'), Timestamp('2020-12-02 00:00:00'), Timestamp('2020-12-03 00:00:00'), Timestamp('2020-12-04 00:00:00')]\n"
     ]
    }
   ],
   "source": [
    "test_y_days = []\n",
    "size = business_days.shape[0] // 20 * 20\n",
    "for i in range(size):\n",
    "    if 15 <= i % 20:\n",
    "        test_y_days.append(business_days.iloc[i][0])\n",
    "print(test_y_days)"
   ]
  },
  {
   "cell_type": "code",
   "execution_count": 139,
   "metadata": {},
   "outputs": [
    {
     "name": "stdout",
     "output_type": "stream",
     "text": [
      "          Day  000060  000080  000100  000120  000150  000240  000250  000270  \\\n",
      "0  2020-01-27       0       0       0       0       0       0       0       0   \n",
      "1  2020-01-28       0       0       0       0       0       0       0       0   \n",
      "2  2020-01-29       0       0       0       0       0       0       0       0   \n",
      "3  2020-01-30       0       0       0       0       0       0       0       0   \n",
      "4  2020-01-31       0       0       0       0       0       0       0       0   \n",
      "5  2020-02-24       0       0       0       0       0       0       0       0   \n",
      "6  2020-02-25       0       0       0       0       0       0       0       0   \n",
      "7  2020-02-26       0       0       0       0       0       0       0       0   \n",
      "8  2020-02-27       0       0       0       0       0       0       0       0   \n",
      "9  2020-02-28       0       0       0       0       0       0       0       0   \n",
      "10 2020-03-23       0       0       0       0       0       0       0       0   \n",
      "11 2020-03-24       0       0       0       0       0       0       0       0   \n",
      "12 2020-03-25       0       0       0       0       0       0       0       0   \n",
      "13 2020-03-26       0       0       0       0       0       0       0       0   \n",
      "14 2020-03-27       0       0       0       0       0       0       0       0   \n",
      "15 2020-04-20       0       0       0       0       0       0       0       0   \n",
      "16 2020-04-21       0       0       0       0       0       0       0       0   \n",
      "17 2020-04-22       0       0       0       0       0       0       0       0   \n",
      "18 2020-04-23       0       0       0       0       0       0       0       0   \n",
      "19 2020-04-24       0       0       0       0       0       0       0       0   \n",
      "\n",
      "    000660  ...  330860  336260  336370  347860  348150  348210  352820  \\\n",
      "0        0  ...       0       0       0       0       0       0       0   \n",
      "1        0  ...       0       0       0       0       0       0       0   \n",
      "2        0  ...       0       0       0       0       0       0       0   \n",
      "3        0  ...       0       0       0       0       0       0       0   \n",
      "4        0  ...       0       0       0       0       0       0       0   \n",
      "5        0  ...       0       0       0       0       0       0       0   \n",
      "6        0  ...       0       0       0       0       0       0       0   \n",
      "7        0  ...       0       0       0       0       0       0       0   \n",
      "8        0  ...       0       0       0       0       0       0       0   \n",
      "9        0  ...       0       0       0       0       0       0       0   \n",
      "10       0  ...       0       0       0       0       0       0       0   \n",
      "11       0  ...       0       0       0       0       0       0       0   \n",
      "12       0  ...       0       0       0       0       0       0       0   \n",
      "13       0  ...       0       0       0       0       0       0       0   \n",
      "14       0  ...       0       0       0       0       0       0       0   \n",
      "15       0  ...       0       0       0       0       0       0       0   \n",
      "16       0  ...       0       0       0       0       0       0       0   \n",
      "17       0  ...       0       0       0       0       0       0       0   \n",
      "18       0  ...       0       0       0       0       0       0       0   \n",
      "19       0  ...       0       0       0       0       0       0       0   \n",
      "\n",
      "    357780  363280  950130  \n",
      "0        0       0       0  \n",
      "1        0       0       0  \n",
      "2        0       0       0  \n",
      "3        0       0       0  \n",
      "4        0       0       0  \n",
      "5        0       0       0  \n",
      "6        0       0       0  \n",
      "7        0       0       0  \n",
      "8        0       0       0  \n",
      "9        0       0       0  \n",
      "10       0       0       0  \n",
      "11       0       0       0  \n",
      "12       0       0       0  \n",
      "13       0       0       0  \n",
      "14       0       0       0  \n",
      "15       0       0       0  \n",
      "16       0       0       0  \n",
      "17       0       0       0  \n",
      "18       0       0       0  \n",
      "19       0       0       0  \n",
      "\n",
      "[20 rows x 371 columns]\n"
     ]
    }
   ],
   "source": [
    "answer = pd.DataFrame(0, index=test_y_days, columns=stock_list['종목코드'])\n",
    "answer = answer.reset_index(level=0)\n",
    "answer = answer.rename(columns = {'index': 'Day'})\n",
    "answer = answer.rename_axis(None, axis=1)\n",
    "print(answer[:20])"
   ]
  },
  {
   "cell_type": "code",
   "execution_count": 140,
   "metadata": {},
   "outputs": [
    {
     "name": "stderr",
     "output_type": "stream",
     "text": [
      "100%|█████████████████████████████████████████| 370/370 [00:59<00:00,  6.22it/s]\n"
     ]
    }
   ],
   "source": [
    "train_x = dict()\n",
    "train_y = dict()\n",
    "test_x = dict()\n",
    "test_y = dict()\n",
    "\n",
    "for code in tqdm(stock_list['종목코드'].values):\n",
    "    data = fdr.DataReader(code, start = start_date, end = end_date)[['Close']].reset_index()\n",
    "    data = pd.merge(business_days, data, how = 'outer')\n",
    "    data.Close = data.Close.ffill()\n",
    "    data.Close = data.Close.bfill()\n",
    "\n",
    "    data['weekday'] = data.Date.apply(lambda x : x.weekday())\n",
    "    data['weeknum'] = data.Date.apply(lambda x : x.strftime('%Y-%V'))\n",
    "\n",
    "    data = pd.pivot_table(data = data, values = 'Close', columns = 'weekday', index = 'weeknum')\n",
    "    \n",
    "    #print(data[:5])\n",
    "    size = data.shape[0]\n",
    "    changed_size = size // 4 * 4\n",
    "    data = data.iloc[:changed_size]\n",
    "    #print(data.shape)\n",
    "\n",
    "    nan = np.sum(np.sum(np.isnan(data)))\n",
    "    if nan > 0:\n",
    "        print(nan)\n",
    "        print(data)\n",
    "        break\n",
    "\n",
    "    train_x[code] = data.iloc[::4, :].to_numpy()\n",
    "    train_y[code] = data.iloc[1::4, :].to_numpy()\n",
    "    test_x[code] = data.iloc[2::4, :].to_numpy()\n",
    "    test_y[code] = data.iloc[3::4, :].to_numpy()\n",
    "    #print('nan:', np.sum(np.isnan(train_x[code])))\n",
    "\n",
    "    #print(len(train_x[code]), len(train_y[code]), len(test_x[code]), len(test_y[code]))\n",
    "    \n",
    "    answer[code] = test_y[code].flatten()"
   ]
  },
  {
   "cell_type": "code",
   "execution_count": 141,
   "metadata": {},
   "outputs": [
    {
     "name": "stdout",
     "output_type": "stream",
     "text": [
      "         Day   000060   000080   000100    000120   000150   000240   000250  \\\n",
      "0 2020-01-27  15850.0  32650.0  41578.0  142000.0  67600.0  13750.0  31400.0   \n",
      "1 2020-01-28  15350.0  31450.0  41669.0  136000.0  64900.0  13350.0  30400.0   \n",
      "2 2020-01-29  15400.0  31850.0  41211.0  139000.0  66000.0  13250.0  30450.0   \n",
      "3 2020-01-30  15450.0  31550.0  40754.0  143000.0  65000.0  13050.0  29000.0   \n",
      "4 2020-01-31  15700.0  30000.0  39930.0  146000.0  62700.0  13250.0  28900.0   \n",
      "\n",
      "    000270   000660  ...   330860  336260   336370   347860   348150   348210  \\\n",
      "0  43400.0  98700.0  ...  38700.0  8321.0  26407.0  26000.0  31300.0  23881.0   \n",
      "1  42700.0  96300.0  ...  38700.0  7948.0  27612.0  26000.0  31300.0  23881.0   \n",
      "2  42550.0  97900.0  ...  38700.0  7948.0  27178.0  26000.0  31300.0  23881.0   \n",
      "3  41950.0  94000.0  ...  38700.0  7771.0  27708.0  26000.0  31300.0  23881.0   \n",
      "4  40900.0  93500.0  ...  38700.0  7369.0  25154.0  26000.0  31300.0  23881.0   \n",
      "\n",
      "     352820    357780   363280  950130  \n",
      "0  255420.0  262000.0  29000.0  2565.0  \n",
      "1  255420.0  262000.0  29000.0  2785.0  \n",
      "2  255420.0  262000.0  29000.0  2530.0  \n",
      "3  255420.0  262000.0  29000.0  2835.0  \n",
      "4  255420.0  262000.0  29000.0  2525.0  \n",
      "\n",
      "[5 rows x 371 columns]\n"
     ]
    }
   ],
   "source": [
    "print(answer[:5])"
   ]
  },
  {
   "cell_type": "code",
   "execution_count": 142,
   "metadata": {},
   "outputs": [
    {
     "name": "stderr",
     "output_type": "stream",
     "text": [
      "100%|███████████████████████████████████████| 370/370 [00:00<00:00, 2622.29it/s]"
     ]
    },
    {
     "name": "stdout",
     "output_type": "stream",
     "text": [
      "0.062157975989307675\n"
     ]
    },
    {
     "name": "stderr",
     "output_type": "stream",
     "text": [
      "\n"
     ]
    }
   ],
   "source": [
    "diff = 0\n",
    "\n",
    "for code in tqdm(stock_list['종목코드'].values):\n",
    "    model = LinearRegression()\n",
    "    model.fit(train_x[code], train_y[code])\n",
    "    y_pred = model.predict(test_x[code])\n",
    "    diff += np.sum(np.abs(y_pred - test_y[code]))\n",
    "\n",
    "print(diff / np.sum(list(test_y.values())))"
   ]
  },
  {
   "cell_type": "code",
   "execution_count": 143,
   "metadata": {},
   "outputs": [
    {
     "name": "stderr",
     "output_type": "stream",
     "text": [
      "100%|██████████████████████████████████████| 370/370 [00:00<00:00, 93543.85it/s]"
     ]
    },
    {
     "name": "stdout",
     "output_type": "stream",
     "text": [
      "0.05234513386165297\n"
     ]
    },
    {
     "name": "stderr",
     "output_type": "stream",
     "text": [
      "\n"
     ]
    }
   ],
   "source": [
    "diff = 0\n",
    "\n",
    "for code in tqdm(stock_list['종목코드'].values):\n",
    "    y_pred = test_x[code]\n",
    "    diff += np.sum(np.abs(y_pred - test_y[code]))\n",
    "\n",
    "print(diff / np.sum(list(test_y.values())))"
   ]
  },
  {
   "cell_type": "code",
   "execution_count": 144,
   "metadata": {},
   "outputs": [
    {
     "name": "stderr",
     "output_type": "stream",
     "text": [
      "100%|██████████████████████████████████████| 370/370 [00:00<00:00, 53230.86it/s]"
     ]
    },
    {
     "name": "stdout",
     "output_type": "stream",
     "text": [
      "0.03956833427963391\n"
     ]
    },
    {
     "name": "stderr",
     "output_type": "stream",
     "text": [
      "\n"
     ]
    }
   ],
   "source": [
    "diff = 0\n",
    "\n",
    "for code in tqdm(stock_list['종목코드'].values):\n",
    "    size = len(test_x[code])\n",
    "    y_pred = np.zeros((size, 5))\n",
    "    y_pred += np.expand_dims(test_x[code][:,4], axis=1)\n",
    "    diff += np.sum(np.abs(y_pred - test_y[code]))\n",
    "\n",
    "print(diff / np.sum(list(test_y.values())))"
   ]
  }
 ],
 "metadata": {
  "kernelspec": {
   "display_name": "venv",
   "language": "python",
   "name": "venv"
  },
  "language_info": {
   "codemirror_mode": {
    "name": "ipython",
    "version": 3
   },
   "file_extension": ".py",
   "mimetype": "text/x-python",
   "name": "python",
   "nbconvert_exporter": "python",
   "pygments_lexer": "ipython3",
   "version": "3.9.6"
  },
  "orig_nbformat": 4
 },
 "nbformat": 4,
 "nbformat_minor": 2
}
